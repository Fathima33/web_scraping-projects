{
 "cells": [
  {
   "cell_type": "markdown",
   "id": "5ad179bb",
   "metadata": {},
   "source": [
    "# Scraping Audible website\n",
    "  ### Genre: Literature and Fiction"
   ]
  },
  {
   "cell_type": "code",
   "execution_count": 27,
   "id": "1a467a42",
   "metadata": {},
   "outputs": [],
   "source": [
    "from selenium import webdriver\n",
    "from selenium.webdriver.support.ui import Select\n",
    "import time\n",
    "from selenium.webdriver.common.by import By as by\n",
    "path=\"C:\\\\Users\\\\fathi\\\\OneDrive\\\\Desktop\\\\chromedriver\"\n",
    "obj=webdriver.ChromeOptions()\n",
    "obj.add_argument(path)\n",
    "driver=webdriver.Chrome(options=obj)\n",
    "driver.get(\"https://www.audible.in/search?node=21881795031&sort=popularity-rank&ref_pageloadid=0ikXKafS1Mx5DLLH&ref=a_cat_Liter_c8_showmore&pf_rd_p=be4f74e4-9068-42fd-9319-73eb8b0c879a&pf_rd_r=SWHKVM2J1SNKRHSFFVXE&pageLoadId=d2Ay0fOyNNOuk5Oq&ref_plink=not_applicable&creativeId=fa240ef5-2ebf-4f43-b1b1-11c01bce5b1b\")\n",
    "book_name=[]\n",
    "author=[]\n",
    "narrator=[]\n",
    "release_date=[]\n",
    "language=[]\n",
    "length=[]\n",
    "no_of_ratings=[]\n",
    "current_page=1\n",
    "total_pages=driver.find_element(by.XPATH,'.//ul[contains(@class,\"pagingElements\")]')\n",
    "pages=total_pages.find_elements(by.TAG_NAME,\"li\")\n",
    "last_page=int(pages[-2].text)\n",
    "while current_page<=last_page:\n",
    "    time.sleep(2)\n",
    "    cont=driver.find_element(by.XPATH,'//div [contains(@class,\"adbl-impression-container\")]')\n",
    "    books=cont.find_elements(by.XPATH,'//li [contains(@class,\"productListItem\")]')\n",
    "\n",
    "\n",
    "    for i in books:\n",
    "        book=i.find_element(by.XPATH,'.//h3 [contains(@class,\"bc-heading\")]').text\n",
    "        author_name=i.find_element(by.XPATH,'.//li [contains(@class,\"authorLabel\")]').text\n",
    "        narrator_name=i.find_element(by.XPATH,'.//li [contains(@class,\"narratorLabel\")]').text\n",
    "        date=i.find_element(by.XPATH,'.//li [contains(@class,\"releaseDateLabel\")]').text\n",
    "        length_book=i.find_element(by.XPATH,'.//li [contains(@class,\"runtimeLabel\")]').text\n",
    "        lang_book=i.find_element(by.XPATH,'.//li [contains(@class,\"languageLabel\")]').text\n",
    "        language.append(lang_book)\n",
    "        length.append(length_book)\n",
    "        release_date.append(date)\n",
    "        ratings=i.find_element(by.XPATH,'.//li[contains(@class,\"ratingsLabel\")]').text\n",
    "        no_of_ratings.append(ratings)\n",
    "        narrator.append(narrator_name)\n",
    "        author.append(author_name)\n",
    "        book_name.append(book)\n",
    "    current_page += 1\n",
    "    next_page_btn = driver.find_element(by.XPATH, '//span[contains(@class,\"nextButton\")]')\n",
    "    next_page_btn.click()"
   ]
  },
  {
   "cell_type": "code",
   "execution_count": 84,
   "id": "7c76b42f",
   "metadata": {},
   "outputs": [],
   "source": [
    "import pandas as pd\n",
    "df=pd.DataFrame({'BookName':book_name,'authorname':author,'narratorname':narrator,'length':length,'language':language,'date':release_date,'ratings':no_of_ratings})"
   ]
  },
  {
   "cell_type": "code",
   "execution_count": 85,
   "id": "14d2b07a",
   "metadata": {},
   "outputs": [
    {
     "data": {
      "text/plain": [
       "(500, 7)"
      ]
     },
     "execution_count": 85,
     "metadata": {},
     "output_type": "execute_result"
    }
   ],
   "source": [
    "df.shape"
   ]
  },
  {
   "cell_type": "code",
   "execution_count": 86,
   "id": "0a364d07",
   "metadata": {},
   "outputs": [
    {
     "data": {
      "text/html": [
       "<div>\n",
       "<style scoped>\n",
       "    .dataframe tbody tr th:only-of-type {\n",
       "        vertical-align: middle;\n",
       "    }\n",
       "\n",
       "    .dataframe tbody tr th {\n",
       "        vertical-align: top;\n",
       "    }\n",
       "\n",
       "    .dataframe thead th {\n",
       "        text-align: right;\n",
       "    }\n",
       "</style>\n",
       "<table border=\"1\" class=\"dataframe\">\n",
       "  <thead>\n",
       "    <tr style=\"text-align: right;\">\n",
       "      <th></th>\n",
       "      <th>BookName</th>\n",
       "      <th>authorname</th>\n",
       "      <th>narratorname</th>\n",
       "      <th>length</th>\n",
       "      <th>language</th>\n",
       "      <th>date</th>\n",
       "      <th>ratings</th>\n",
       "    </tr>\n",
       "  </thead>\n",
       "  <tbody>\n",
       "    <tr>\n",
       "      <th>495</th>\n",
       "      <td>Oliver Twist</td>\n",
       "      <td>Written by: Charles Dickens</td>\n",
       "      <td>Narrated by: Martin Jarvis</td>\n",
       "      <td>Length: 16 hrs and 17 mins</td>\n",
       "      <td>Language: English</td>\n",
       "      <td>Release Date: 25-01-06</td>\n",
       "      <td>4.5 out of 5 stars\\n14 ratings</td>\n",
       "    </tr>\n",
       "    <tr>\n",
       "      <th>496</th>\n",
       "      <td>The Count of Monte Cristo</td>\n",
       "      <td>Written by: Alexandre Dumas</td>\n",
       "      <td>Narrated by: Bill Homewood</td>\n",
       "      <td>Length: 52 hrs and 41 mins</td>\n",
       "      <td>Language: English</td>\n",
       "      <td>Release Date: 04-08-11</td>\n",
       "      <td>5 out of 5 stars\\n35 ratings</td>\n",
       "    </tr>\n",
       "    <tr>\n",
       "      <th>497</th>\n",
       "      <td>The Memory Police</td>\n",
       "      <td>Written by: Yoko Ogawa, Stephen Snyder - trans...</td>\n",
       "      <td>Narrated by: Traci Kato-Kiriyama</td>\n",
       "      <td>Length: 9 hrs and 8 mins</td>\n",
       "      <td>Language: English</td>\n",
       "      <td>Release Date: 19-10-23</td>\n",
       "      <td>Not rated yet</td>\n",
       "    </tr>\n",
       "    <tr>\n",
       "      <th>498</th>\n",
       "      <td>Daisy Darker</td>\n",
       "      <td>Written by: Alice Feeney</td>\n",
       "      <td>Narrated by: Stephanie Racine</td>\n",
       "      <td>Length: 10 hrs and 54 mins</td>\n",
       "      <td>Language: English</td>\n",
       "      <td>Release Date: 18-08-22</td>\n",
       "      <td>4 out of 5 stars\\n36 ratings</td>\n",
       "    </tr>\n",
       "    <tr>\n",
       "      <th>499</th>\n",
       "      <td>Edge of Eternity</td>\n",
       "      <td>Written by: Ken Follett</td>\n",
       "      <td>Narrated by: John Lee</td>\n",
       "      <td>Length: 36 hrs and 51 mins</td>\n",
       "      <td>Language: English</td>\n",
       "      <td>Release Date: 16-09-14</td>\n",
       "      <td>5 out of 5 stars\\n24 ratings</td>\n",
       "    </tr>\n",
       "  </tbody>\n",
       "</table>\n",
       "</div>"
      ],
      "text/plain": [
       "                      BookName  \\\n",
       "495               Oliver Twist   \n",
       "496  The Count of Monte Cristo   \n",
       "497          The Memory Police   \n",
       "498               Daisy Darker   \n",
       "499           Edge of Eternity   \n",
       "\n",
       "                                            authorname  \\\n",
       "495                        Written by: Charles Dickens   \n",
       "496                        Written by: Alexandre Dumas   \n",
       "497  Written by: Yoko Ogawa, Stephen Snyder - trans...   \n",
       "498                           Written by: Alice Feeney   \n",
       "499                            Written by: Ken Follett   \n",
       "\n",
       "                         narratorname                      length  \\\n",
       "495        Narrated by: Martin Jarvis  Length: 16 hrs and 17 mins   \n",
       "496        Narrated by: Bill Homewood  Length: 52 hrs and 41 mins   \n",
       "497  Narrated by: Traci Kato-Kiriyama    Length: 9 hrs and 8 mins   \n",
       "498     Narrated by: Stephanie Racine  Length: 10 hrs and 54 mins   \n",
       "499             Narrated by: John Lee  Length: 36 hrs and 51 mins   \n",
       "\n",
       "              language                    date                         ratings  \n",
       "495  Language: English  Release Date: 25-01-06  4.5 out of 5 stars\\n14 ratings  \n",
       "496  Language: English  Release Date: 04-08-11    5 out of 5 stars\\n35 ratings  \n",
       "497  Language: English  Release Date: 19-10-23                   Not rated yet  \n",
       "498  Language: English  Release Date: 18-08-22    4 out of 5 stars\\n36 ratings  \n",
       "499  Language: English  Release Date: 16-09-14    5 out of 5 stars\\n24 ratings  "
      ]
     },
     "execution_count": 86,
     "metadata": {},
     "output_type": "execute_result"
    }
   ],
   "source": [
    "df.tail()"
   ]
  },
  {
   "cell_type": "code",
   "execution_count": 87,
   "id": "2ec7edda",
   "metadata": {},
   "outputs": [],
   "source": [
    "obj.headless=True # to avoid opening browser again and again"
   ]
  },
  {
   "cell_type": "markdown",
   "id": "5298cc39",
   "metadata": {},
   "source": [
    "### DATASET CLEANING"
   ]
  },
  {
   "cell_type": "code",
   "execution_count": 88,
   "id": "77b36694",
   "metadata": {},
   "outputs": [
    {
     "data": {
      "text/plain": [
       "383                         20,000 Leagues Under the Sea\n",
       "125                        The Alchemist (Tamil Edition)\n",
       "407                                    Crime on the Fens\n",
       "452                                     Parthiban Kanavu\n",
       "379                          Slayers: A Buffyverse Story\n",
       "374                               She Who Became the Sun\n",
       "454                  Aunts Aren't Gentlemen (Unabridged)\n",
       "205                            Sevasadan [Service House]\n",
       "32                                  Bookshops & Bonedust\n",
       "365    Zindagi Wo Jo Aap Banaayen [Life Is What You M...\n",
       "Name: BookName, dtype: object"
      ]
     },
     "execution_count": 88,
     "metadata": {},
     "output_type": "execute_result"
    }
   ],
   "source": [
    "df.BookName.sample(10)"
   ]
  },
  {
   "cell_type": "code",
   "execution_count": 89,
   "id": "db13295d",
   "metadata": {},
   "outputs": [],
   "source": [
    "df[\"bookname\"]=df[\"BookName\"].apply(lambda x:x.split('(')[0])"
   ]
  },
  {
   "cell_type": "code",
   "execution_count": 90,
   "id": "7d4a99b4",
   "metadata": {},
   "outputs": [
    {
     "data": {
      "text/plain": [
       "252                                The Devil Wears Prada\n",
       "404                                           Beach Read\n",
       "399                                  Poirot Investigates\n",
       "195                                             Dark Age\n",
       "314    The Ultimate Horror Collection: 60+ Novels and...\n",
       "352            Blackadder: The Complete Collected Series\n",
       "106                                   The Feast of Roses\n",
       "329                        The Virginia Woolf Collection\n",
       "17                              Vivekanand [Vivekananda]\n",
       "303                                  The Gathering Storm\n",
       "Name: bookname, dtype: object"
      ]
     },
     "execution_count": 90,
     "metadata": {},
     "output_type": "execute_result"
    }
   ],
   "source": [
    "df.bookname.sample(10)"
   ]
  },
  {
   "cell_type": "code",
   "execution_count": 91,
   "id": "c23a1c6a",
   "metadata": {},
   "outputs": [
    {
     "data": {
      "text/plain": [
       "0                           [Written by,  Ashwin Sanghi]\n",
       "1                        [Written by,  Munshi Premchand]\n",
       "2                       [Written by,  Acharya Chatursen]\n",
       "3                             [Written by,  Ken Cuperus]\n",
       "4             [Written by,  Shirtaloon, Travis Deverell]\n",
       "                             ...                        \n",
       "495                       [Written by,  Charles Dickens]\n",
       "496                       [Written by,  Alexandre Dumas]\n",
       "497    [Written by,  Yoko Ogawa, Stephen Snyder - tra...\n",
       "498                          [Written by,  Alice Feeney]\n",
       "499                           [Written by,  Ken Follett]\n",
       "Name: authorname, Length: 500, dtype: object"
      ]
     },
     "execution_count": 91,
     "metadata": {},
     "output_type": "execute_result"
    }
   ],
   "source": [
    "df.authorname.str.split(\":\")"
   ]
  },
  {
   "cell_type": "code",
   "execution_count": 92,
   "id": "bb81481e",
   "metadata": {},
   "outputs": [],
   "source": [
    "df[\"authorname\"]=df[\"authorname\"].apply(lambda x:x.split(':')[1])"
   ]
  },
  {
   "cell_type": "code",
   "execution_count": 93,
   "id": "fcbd6f65",
   "metadata": {},
   "outputs": [
    {
     "data": {
      "text/plain": [
       "71                   Pierce Brown\n",
       "72      J. M. Barlog, Cory Barlog\n",
       "389                Sidney Sheldon\n",
       "354                  George Eliot\n",
       "250            James Hadley Chase\n",
       "401             Viet Thanh Nguyen\n",
       "251                     Andy Weir\n",
       "361                 Rebecca Serle\n",
       "152                 Ashwin Sanghi\n",
       "446                         Kalki\n",
       "Name: authorname, dtype: object"
      ]
     },
     "execution_count": 93,
     "metadata": {},
     "output_type": "execute_result"
    }
   ],
   "source": [
    "df[\"authorname\"].sample(10)"
   ]
  },
  {
   "cell_type": "code",
   "execution_count": 94,
   "id": "3404ad17",
   "metadata": {},
   "outputs": [],
   "source": [
    "df[\"narratorname\"]=df[\"narratorname\"].apply(lambda x:x.split(':')[1])"
   ]
  },
  {
   "cell_type": "code",
   "execution_count": 95,
   "id": "b267dd20",
   "metadata": {},
   "outputs": [
    {
     "data": {
      "text/plain": [
       "282                        Manish Dangardive\n",
       "167                             Jeff Woodman\n",
       "321                            Sri Srinivasa\n",
       "328                          Soneela Nankani\n",
       "455     Charlotte Claremont, Gregory Salinas\n",
       "141               Joe Arden, Maxine Mitchell\n",
       "401                            Francois Chau\n",
       "305                            Bombay Kannan\n",
       "477              Ron McLarty, Orlagh Cassidy\n",
       "400                              John Pether\n",
       "Name: narratorname, dtype: object"
      ]
     },
     "execution_count": 95,
     "metadata": {},
     "output_type": "execute_result"
    }
   ],
   "source": [
    "df[\"narratorname\"].sample(10)"
   ]
  },
  {
   "cell_type": "code",
   "execution_count": 96,
   "id": "182e7c12",
   "metadata": {},
   "outputs": [],
   "source": [
    "df[\"length\"]=df[\"length\"].apply(lambda x:x.split(':')[1])"
   ]
  },
  {
   "cell_type": "code",
   "execution_count": 83,
   "id": "7a9a87b7",
   "metadata": {},
   "outputs": [
    {
     "data": {
      "text/plain": [
       "16       6 hrs and 36 mins\n",
       "76      16 hrs and 23 mins\n",
       "147      5 hrs and 46 mins\n",
       "325     29 hrs and 47 mins\n",
       "95      11 hrs and 10 mins\n",
       "64                  20 hrs\n",
       "232      7 hrs and 19 mins\n",
       "414     30 hrs and 53 mins\n",
       "411     12 hrs and 40 mins\n",
       "175       5 hrs and 5 mins\n",
       "Name: length, dtype: object"
      ]
     },
     "execution_count": 83,
     "metadata": {},
     "output_type": "execute_result"
    }
   ],
   "source": [
    "df[\"length\"].sample(10)"
   ]
  },
  {
   "cell_type": "code",
   "execution_count": 97,
   "id": "4dab941a",
   "metadata": {},
   "outputs": [
    {
     "data": {
      "text/plain": [
       "' 44 '"
      ]
     },
     "execution_count": 97,
     "metadata": {},
     "output_type": "execute_result"
    }
   ],
   "source": [
    "df[\"length\"].str.split('and')[1][1].split('mins')[0]"
   ]
  },
  {
   "cell_type": "code",
   "execution_count": 98,
   "id": "039bf6c6",
   "metadata": {},
   "outputs": [],
   "source": [
    "df[\"hours\"]=df[\"length\"].apply(lambda x:x.split('hrs')[0])"
   ]
  },
  {
   "cell_type": "code",
   "execution_count": 104,
   "id": "637e9647",
   "metadata": {},
   "outputs": [
    {
     "data": {
      "text/plain": [
       "0       17 \n",
       "1        7 \n",
       "2       23 \n",
       "3        3 \n",
       "4       25 \n",
       "       ... \n",
       "495     16 \n",
       "496     52 \n",
       "497      9 \n",
       "498     10 \n",
       "499     36 \n",
       "Name: hours, Length: 500, dtype: object"
      ]
     },
     "execution_count": 104,
     "metadata": {},
     "output_type": "execute_result"
    }
   ],
   "source": [
    "df[\"hours\"]"
   ]
  },
  {
   "cell_type": "code",
   "execution_count": 124,
   "id": "27abab71",
   "metadata": {},
   "outputs": [],
   "source": [
    "df[\"language\"]=df[\"language\"].apply(lambda x:x.split(':')[1])"
   ]
  },
  {
   "cell_type": "code",
   "execution_count": 125,
   "id": "cd0c2117",
   "metadata": {},
   "outputs": [
    {
     "data": {
      "text/plain": [
       "0         Hindi\n",
       "1         Hindi\n",
       "2         Hindi\n",
       "3       English\n",
       "4       English\n",
       "         ...   \n",
       "495     English\n",
       "496     English\n",
       "497     English\n",
       "498     English\n",
       "499     English\n",
       "Name: language, Length: 500, dtype: object"
      ]
     },
     "execution_count": 125,
     "metadata": {},
     "output_type": "execute_result"
    }
   ],
   "source": [
    "df[\"language\"]"
   ]
  },
  {
   "cell_type": "code",
   "execution_count": 126,
   "id": "d8cdf44b",
   "metadata": {},
   "outputs": [],
   "source": [
    "df[\"date\"]=df[\"date\"].apply(lambda x:x.split(':')[1])"
   ]
  },
  {
   "cell_type": "code",
   "execution_count": 129,
   "id": "22295ebe",
   "metadata": {},
   "outputs": [],
   "source": [
    "df[\"date\"]=pd.to_datetime(df[\"date\"])"
   ]
  },
  {
   "cell_type": "code",
   "execution_count": 130,
   "id": "6dcb09bc",
   "metadata": {},
   "outputs": [
    {
     "data": {
      "text/plain": [
       "0     2023-10-31\n",
       "1     2021-07-19\n",
       "2     2020-10-06\n",
       "3     2023-08-11\n",
       "4     2023-11-28\n",
       "         ...    \n",
       "495   2006-01-25\n",
       "496   2011-04-08\n",
       "497   2023-10-19\n",
       "498   2022-08-18\n",
       "499   2014-09-16\n",
       "Name: date, Length: 500, dtype: datetime64[ns]"
      ]
     },
     "execution_count": 130,
     "metadata": {},
     "output_type": "execute_result"
    }
   ],
   "source": [
    "df[\"date\"]"
   ]
  },
  {
   "cell_type": "code",
   "execution_count": 131,
   "id": "2454a6ea",
   "metadata": {},
   "outputs": [],
   "source": [
    "df[\"year\"]=df[\"date\"].dt.year"
   ]
  },
  {
   "cell_type": "code",
   "execution_count": 132,
   "id": "d7232552",
   "metadata": {},
   "outputs": [
    {
     "data": {
      "text/plain": [
       "222    2020\n",
       "Name: year, dtype: int64"
      ]
     },
     "execution_count": 132,
     "metadata": {},
     "output_type": "execute_result"
    }
   ],
   "source": [
    "df[\"year\"].sample()"
   ]
  },
  {
   "cell_type": "code",
   "execution_count": 133,
   "id": "7fbab5a4",
   "metadata": {},
   "outputs": [],
   "source": [
    "df[\"month\"]=df[\"date\"].dt.month_name()"
   ]
  },
  {
   "cell_type": "code",
   "execution_count": 134,
   "id": "096ccfc5",
   "metadata": {},
   "outputs": [
    {
     "data": {
      "text/plain": [
       "238    February\n",
       "Name: month, dtype: object"
      ]
     },
     "execution_count": 134,
     "metadata": {},
     "output_type": "execute_result"
    }
   ],
   "source": [
    "df.month.sample()"
   ]
  },
  {
   "cell_type": "code",
   "execution_count": 135,
   "id": "5d61a340",
   "metadata": {},
   "outputs": [],
   "source": [
    "def func(x):\n",
    "    if x in ['January', 'February', 'March']:\n",
    "        return \"Quarter 1\"\n",
    "    elif x in ['April', 'May','June']:\n",
    "        return \"Quarter 2\"\n",
    "    elif x in ['July', 'August','September']:\n",
    "        return \"Quarter 3\"\n",
    "    else:\n",
    "        return \"Quarter 4\"\n",
    "df[\"quarter\"]=df[\"month\"].apply(lambda x:func(x))"
   ]
  },
  {
   "cell_type": "code",
   "execution_count": 136,
   "id": "d17d1017",
   "metadata": {},
   "outputs": [
    {
     "data": {
      "text/plain": [
       "0      Quarter 4\n",
       "1      Quarter 3\n",
       "2      Quarter 4\n",
       "3      Quarter 3\n",
       "4      Quarter 4\n",
       "         ...    \n",
       "495    Quarter 1\n",
       "496    Quarter 2\n",
       "497    Quarter 4\n",
       "498    Quarter 3\n",
       "499    Quarter 3\n",
       "Name: quarter, Length: 500, dtype: object"
      ]
     },
     "execution_count": 136,
     "metadata": {},
     "output_type": "execute_result"
    }
   ],
   "source": [
    "df[\"quarter\"]"
   ]
  },
  {
   "cell_type": "code",
   "execution_count": 154,
   "id": "de0a9903",
   "metadata": {},
   "outputs": [
    {
     "data": {
      "text/plain": [
       "0          [5 out of 5 stars, 3 ratings]\n",
       "1        [5 out of 5 stars, 149 ratings]\n",
       "2      [4.5 out of 5 stars, 126 ratings]\n",
       "3          [5 out of 5 stars, 8 ratings]\n",
       "4           [3 out of 5 stars, 1 rating]\n",
       "                     ...                \n",
       "495     [4.5 out of 5 stars, 14 ratings]\n",
       "496       [5 out of 5 stars, 35 ratings]\n",
       "497                      [Not rated yet]\n",
       "498       [4 out of 5 stars, 36 ratings]\n",
       "499       [5 out of 5 stars, 24 ratings]\n",
       "Name: ratings, Length: 500, dtype: object"
      ]
     },
     "execution_count": 154,
     "metadata": {},
     "output_type": "execute_result"
    }
   ],
   "source": [
    "df[\"ratings\"].str.split('\\n')"
   ]
  },
  {
   "cell_type": "code",
   "execution_count": 150,
   "id": "e23ebf34",
   "metadata": {},
   "outputs": [],
   "source": [
    "df[\"star_rating\"]=df[\"ratings\"].apply(lambda x:x.split('out')[0])"
   ]
  },
  {
   "cell_type": "code",
   "execution_count": 151,
   "id": "796a9cf3",
   "metadata": {},
   "outputs": [
    {
     "data": {
      "text/plain": [
       "0                 5 \n",
       "1                 5 \n",
       "2               4.5 \n",
       "3                 5 \n",
       "4                 3 \n",
       "           ...      \n",
       "495             4.5 \n",
       "496               5 \n",
       "497    Not rated yet\n",
       "498               4 \n",
       "499               5 \n",
       "Name: star_rating, Length: 500, dtype: object"
      ]
     },
     "execution_count": 151,
     "metadata": {},
     "output_type": "execute_result"
    }
   ],
   "source": [
    "df[\"star_rating\"]"
   ]
  },
  {
   "cell_type": "code",
   "execution_count": 156,
   "id": "5eb83059",
   "metadata": {},
   "outputs": [],
   "source": [
    "def extract_rating(text):\n",
    "    ratings = text.split('\\n')\n",
    "    if len(ratings) > 1:\n",
    "        rating_info = ratings[1].split(' ')\n",
    "        if len(rating_info) > 0:\n",
    "            return rating_info[0]\n",
    "    return None  \n",
    "df[\"no_rating\"] = df[\"ratings\"].apply(lambda x: extract_rating(x))\n"
   ]
  },
  {
   "cell_type": "code",
   "execution_count": 157,
   "id": "5f8ad474",
   "metadata": {},
   "outputs": [
    {
     "data": {
      "text/plain": [
       "0         3\n",
       "1       149\n",
       "2       126\n",
       "3         8\n",
       "4         1\n",
       "       ... \n",
       "495      14\n",
       "496      35\n",
       "497    None\n",
       "498      36\n",
       "499      24\n",
       "Name: no_rating, Length: 500, dtype: object"
      ]
     },
     "execution_count": 157,
     "metadata": {},
     "output_type": "execute_result"
    }
   ],
   "source": [
    "df[\"no_rating\"]"
   ]
  },
  {
   "cell_type": "code",
   "execution_count": 161,
   "id": "51146f25",
   "metadata": {},
   "outputs": [
    {
     "data": {
      "text/plain": [
       "BookName        The Magicians of Mazda (Hindi Edition)\n",
       "authorname                               Ashwin Sanghi\n",
       "narratorname                              Kamal Sharma\n",
       "length                              17 hrs and 24 mins\n",
       "language                                         Hindi\n",
       "date                               2023-10-31 00:00:00\n",
       "ratings                    5 out of 5 stars\\n3 ratings\n",
       "bookname                       The Magicians of Mazda \n",
       "hours                                              17 \n",
       "year                                              2023\n",
       "month                                          October\n",
       "quarter                                      Quarter 4\n",
       "star_rating                                         5 \n",
       "no_rating                                            3\n",
       "Name: 0, dtype: object"
      ]
     },
     "execution_count": 161,
     "metadata": {},
     "output_type": "execute_result"
    }
   ],
   "source": [
    "df.loc[0]"
   ]
  },
  {
   "cell_type": "markdown",
   "id": "7224fb24",
   "metadata": {},
   "source": [
    "#### Drop  unnecessary columns"
   ]
  },
  {
   "cell_type": "code",
   "execution_count": 163,
   "id": "2aa7647a",
   "metadata": {},
   "outputs": [],
   "source": [
    "df.drop(['BookName','ratings'],inplace=True,axis=1)"
   ]
  },
  {
   "cell_type": "markdown",
   "id": "efe11497",
   "metadata": {},
   "source": [
    "#### To export the dataframe in csv format"
   ]
  },
  {
   "cell_type": "code",
   "execution_count": 164,
   "id": "80d4b839",
   "metadata": {},
   "outputs": [],
   "source": [
    "df.to_csv(\"scraped_dataset_audible\")"
   ]
  },
  {
   "cell_type": "code",
   "execution_count": null,
   "id": "82e6ac6e",
   "metadata": {},
   "outputs": [],
   "source": []
  }
 ],
 "metadata": {
  "kernelspec": {
   "display_name": "Python 3 (ipykernel)",
   "language": "python",
   "name": "python3"
  },
  "language_info": {
   "codemirror_mode": {
    "name": "ipython",
    "version": 3
   },
   "file_extension": ".py",
   "mimetype": "text/x-python",
   "name": "python",
   "nbconvert_exporter": "python",
   "pygments_lexer": "ipython3",
   "version": "3.9.13"
  }
 },
 "nbformat": 4,
 "nbformat_minor": 5
}
